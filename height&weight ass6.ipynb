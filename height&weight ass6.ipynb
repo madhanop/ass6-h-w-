{
 "cells": [
  {
   "cell_type": "code",
   "execution_count": 1,
   "id": "6c4f6654",
   "metadata": {},
   "outputs": [],
   "source": [
    "import numpy as np\n",
    "import  pandas as pd\n",
    "import matplotlib.pyplot as plt\n",
    "import seaborn as sns"
   ]
  },
  {
   "cell_type": "code",
   "execution_count": 2,
   "id": "177e5ae0",
   "metadata": {},
   "outputs": [],
   "source": [
    "from sklearn import linear_model"
   ]
  },
  {
   "cell_type": "code",
   "execution_count": 3,
   "id": "77ca34e9",
   "metadata": {},
   "outputs": [
    {
     "data": {
      "text/html": [
       "<div>\n",
       "<style scoped>\n",
       "    .dataframe tbody tr th:only-of-type {\n",
       "        vertical-align: middle;\n",
       "    }\n",
       "\n",
       "    .dataframe tbody tr th {\n",
       "        vertical-align: top;\n",
       "    }\n",
       "\n",
       "    .dataframe thead th {\n",
       "        text-align: right;\n",
       "    }\n",
       "</style>\n",
       "<table border=\"1\" class=\"dataframe\">\n",
       "  <thead>\n",
       "    <tr style=\"text-align: right;\">\n",
       "      <th></th>\n",
       "      <th>Gender</th>\n",
       "      <th>Height</th>\n",
       "      <th>Weight</th>\n",
       "    </tr>\n",
       "  </thead>\n",
       "  <tbody>\n",
       "    <tr>\n",
       "      <th>0</th>\n",
       "      <td>Male</td>\n",
       "      <td>73.847017</td>\n",
       "      <td>241.893563</td>\n",
       "    </tr>\n",
       "    <tr>\n",
       "      <th>1</th>\n",
       "      <td>Male</td>\n",
       "      <td>68.781904</td>\n",
       "      <td>162.310473</td>\n",
       "    </tr>\n",
       "    <tr>\n",
       "      <th>2</th>\n",
       "      <td>Male</td>\n",
       "      <td>74.110105</td>\n",
       "      <td>212.740856</td>\n",
       "    </tr>\n",
       "    <tr>\n",
       "      <th>3</th>\n",
       "      <td>Male</td>\n",
       "      <td>71.730978</td>\n",
       "      <td>220.042470</td>\n",
       "    </tr>\n",
       "    <tr>\n",
       "      <th>4</th>\n",
       "      <td>Male</td>\n",
       "      <td>69.881796</td>\n",
       "      <td>206.349801</td>\n",
       "    </tr>\n",
       "  </tbody>\n",
       "</table>\n",
       "</div>"
      ],
      "text/plain": [
       "  Gender     Height      Weight\n",
       "0   Male  73.847017  241.893563\n",
       "1   Male  68.781904  162.310473\n",
       "2   Male  74.110105  212.740856\n",
       "3   Male  71.730978  220.042470\n",
       "4   Male  69.881796  206.349801"
      ]
     },
     "execution_count": 3,
     "metadata": {},
     "output_type": "execute_result"
    }
   ],
   "source": [
    "data = pd.read_csv(\"https://raw.githubusercontent.com/omairaasim/machine_learning/master/project_9_predict_weight_sex/weight-height.csv\")\n",
    "data.head()"
   ]
  },
  {
   "cell_type": "code",
   "execution_count": 5,
   "id": "8f49511c",
   "metadata": {},
   "outputs": [
    {
     "data": {
      "text/plain": [
       "(10000, 3)"
      ]
     },
     "execution_count": 5,
     "metadata": {},
     "output_type": "execute_result"
    }
   ],
   "source": [
    "data.shape"
   ]
  },
  {
   "cell_type": "code",
   "execution_count": 6,
   "id": "7974edcc",
   "metadata": {},
   "outputs": [
    {
     "data": {
      "image/png": "[encoded data removed]",
      "text/plain": [
       "<Figure size 432x288 with 1 Axes>"
      ]
     },
     "metadata": {
      "needs_background": "light"
     },
     "output_type": "display_data"
    }
   ],
   "source": [
    "data.plot(kind=\"scatter\",x=\"Height\",y=\"Weight\");"
   ]
  },
  {
   "cell_type": "code",
   "execution_count": 7,
   "id": "5ceef916",
   "metadata": {},
   "outputs": [
    {
     "data": {
      "image/png": "[encoded data removed]",
      "text/plain": [
       "<Figure size 432x216 with 2 Axes>"
      ]
     },
     "metadata": {
      "needs_background": "light"
     },
     "output_type": "display_data"
    }
   ],
   "source": [
    "data.hist(figsize=(6,3),bins=20);"
   ]
  },
  {
   "cell_type": "code",
   "execution_count": 8,
   "id": "128ef4cb",
   "metadata": {},
   "outputs": [
    {
     "data": {
      "text/plain": [
       "{'whiskers': [<matplotlib.lines.Line2D at 0x144ab8662e0>,\n",
       "  <matplotlib.lines.Line2D at 0x144ab866670>],\n",
       " 'caps': [<matplotlib.lines.Line2D at 0x144ab866a00>,\n",
       "  <matplotlib.lines.Line2D at 0x144ab866d90>],\n",
       " 'boxes': [<matplotlib.lines.Line2D at 0x144ab856f10>],\n",
       " 'medians': [<matplotlib.lines.Line2D at 0x144ab872160>],\n",
       " 'fliers': [<matplotlib.lines.Line2D at 0x144ab8724f0>],\n",
       " 'means': []}"
      ]
     },
     "execution_count": 8,
     "metadata": {},
     "output_type": "execute_result"
    },
    {
     "data": {
      "image/png": "[encoded data removed]",
      "text/plain": [
       "<Figure size 432x288 with 2 Axes>"
      ]
     },
     "metadata": {
      "needs_background": "light"
     },
     "output_type": "display_data"
    }
   ],
   "source": [
    "plt.subplot(1,2,1)\n",
    "plt.boxplot(x=data.Height,data=data)\n",
    "plt.subplot(1,2,2)\n",
    "plt.boxplot(x=data.Weight,data=data)"
   ]
  },
  {
   "cell_type": "code",
   "execution_count": 9,
   "id": "8265cfeb",
   "metadata": {},
   "outputs": [
    {
     "data": {
      "text/html": [
       "<div>\n",
       "<style scoped>\n",
       "    .dataframe tbody tr th:only-of-type {\n",
       "        vertical-align: middle;\n",
       "    }\n",
       "\n",
       "    .dataframe tbody tr th {\n",
       "        vertical-align: top;\n",
       "    }\n",
       "\n",
       "    .dataframe thead th {\n",
       "        text-align: right;\n",
       "    }\n",
       "</style>\n",
       "<table border=\"1\" class=\"dataframe\">\n",
       "  <thead>\n",
       "    <tr style=\"text-align: right;\">\n",
       "      <th></th>\n",
       "      <th>Height</th>\n",
       "      <th>Weight</th>\n",
       "    </tr>\n",
       "  </thead>\n",
       "  <tbody>\n",
       "    <tr>\n",
       "      <th>Height</th>\n",
       "      <td>1.000000</td>\n",
       "      <td>0.924756</td>\n",
       "    </tr>\n",
       "    <tr>\n",
       "      <th>Weight</th>\n",
       "      <td>0.924756</td>\n",
       "      <td>1.000000</td>\n",
       "    </tr>\n",
       "  </tbody>\n",
       "</table>\n",
       "</div>"
      ],
      "text/plain": [
       "          Height    Weight\n",
       "Height  1.000000  0.924756\n",
       "Weight  0.924756  1.000000"
      ]
     },
     "execution_count": 9,
     "metadata": {},
     "output_type": "execute_result"
    }
   ],
   "source": [
    "data.corr()"
   ]
  },
  {
   "cell_type": "code",
   "execution_count": 10,
   "id": "f6f275ec",
   "metadata": {},
   "outputs": [],
   "source": [
    "Weight = pd.DataFrame(data[\"Weight\"])\n",
    "Height = pd.DataFrame(data[\"Height\"])"
   ]
  },
  {
   "cell_type": "code",
   "execution_count": 11,
   "id": "42972132",
   "metadata": {},
   "outputs": [
    {
     "data": {
      "text/html": [
       "<div>\n",
       "<style scoped>\n",
       "    .dataframe tbody tr th:only-of-type {\n",
       "        vertical-align: middle;\n",
       "    }\n",
       "\n",
       "    .dataframe tbody tr th {\n",
       "        vertical-align: top;\n",
       "    }\n",
       "\n",
       "    .dataframe thead th {\n",
       "        text-align: right;\n",
       "    }\n",
       "</style>\n",
       "<table border=\"1\" class=\"dataframe\">\n",
       "  <thead>\n",
       "    <tr style=\"text-align: right;\">\n",
       "      <th></th>\n",
       "      <th>Height</th>\n",
       "    </tr>\n",
       "  </thead>\n",
       "  <tbody>\n",
       "    <tr>\n",
       "      <th>0</th>\n",
       "      <td>73.847017</td>\n",
       "    </tr>\n",
       "    <tr>\n",
       "      <th>1</th>\n",
       "      <td>68.781904</td>\n",
       "    </tr>\n",
       "    <tr>\n",
       "      <th>2</th>\n",
       "      <td>74.110105</td>\n",
       "    </tr>\n",
       "    <tr>\n",
       "      <th>3</th>\n",
       "      <td>71.730978</td>\n",
       "    </tr>\n",
       "    <tr>\n",
       "      <th>4</th>\n",
       "      <td>69.881796</td>\n",
       "    </tr>\n",
       "  </tbody>\n",
       "</table>\n",
       "</div>"
      ],
      "text/plain": [
       "      Height\n",
       "0  73.847017\n",
       "1  68.781904\n",
       "2  74.110105\n",
       "3  71.730978\n",
       "4  69.881796"
      ]
     },
     "execution_count": 11,
     "metadata": {},
     "output_type": "execute_result"
    }
   ],
   "source": [
    "Height.head()"
   ]
  },
  {
   "cell_type": "code",
   "execution_count": 12,
   "id": "bc200a8d",
   "metadata": {},
   "outputs": [
    {
     "data": {
      "text/html": [
       "<div>\n",
       "<style scoped>\n",
       "    .dataframe tbody tr th:only-of-type {\n",
       "        vertical-align: middle;\n",
       "    }\n",
       "\n",
       "    .dataframe tbody tr th {\n",
       "        vertical-align: top;\n",
       "    }\n",
       "\n",
       "    .dataframe thead th {\n",
       "        text-align: right;\n",
       "    }\n",
       "</style>\n",
       "<table border=\"1\" class=\"dataframe\">\n",
       "  <thead>\n",
       "    <tr style=\"text-align: right;\">\n",
       "      <th></th>\n",
       "      <th>Weight</th>\n",
       "    </tr>\n",
       "  </thead>\n",
       "  <tbody>\n",
       "    <tr>\n",
       "      <th>0</th>\n",
       "      <td>241.893563</td>\n",
       "    </tr>\n",
       "    <tr>\n",
       "      <th>1</th>\n",
       "      <td>162.310473</td>\n",
       "    </tr>\n",
       "    <tr>\n",
       "      <th>2</th>\n",
       "      <td>212.740856</td>\n",
       "    </tr>\n",
       "    <tr>\n",
       "      <th>3</th>\n",
       "      <td>220.042470</td>\n",
       "    </tr>\n",
       "    <tr>\n",
       "      <th>4</th>\n",
       "      <td>206.349801</td>\n",
       "    </tr>\n",
       "  </tbody>\n",
       "</table>\n",
       "</div>"
      ],
      "text/plain": [
       "       Weight\n",
       "0  241.893563\n",
       "1  162.310473\n",
       "2  212.740856\n",
       "3  220.042470\n",
       "4  206.349801"
      ]
     },
     "execution_count": 12,
     "metadata": {},
     "output_type": "execute_result"
    }
   ],
   "source": [
    "Weight.head()"
   ]
  },
  {
   "cell_type": "code",
   "execution_count": 13,
   "id": "d98d92ce",
   "metadata": {},
   "outputs": [],
   "source": [
    "lm= linear_model.LinearRegression()"
   ]
  },
  {
   "cell_type": "code",
   "execution_count": 14,
   "id": "cb530e31",
   "metadata": {},
   "outputs": [],
   "source": [
    "lm1 =linear_model.LinearRegression(fit_intercept=False)"
   ]
  },
  {
   "cell_type": "code",
   "execution_count": 15,
   "id": "a57ea278",
   "metadata": {},
   "outputs": [],
   "source": [
    "model = lm.fit(Height,Weight)"
   ]
  },
  {
   "cell_type": "code",
   "execution_count": 16,
   "id": "b4b23aea",
   "metadata": {},
   "outputs": [],
   "source": [
    "model1 = lm1.fit(Height,Weight)"
   ]
  },
  {
   "cell_type": "code",
   "execution_count": 17,
   "id": "716faa75",
   "metadata": {},
   "outputs": [
    {
     "name": "stdout",
     "output_type": "stream",
     "text": [
      "[[7.71728764]]\n",
      "[[2.45021927]]\n"
     ]
    }
   ],
   "source": [
    "print(model.coef_)\n",
    "\n",
    "print(model1.coef_)"
   ]
  },
  {
   "cell_type": "code",
   "execution_count": 18,
   "id": "a777dce8",
   "metadata": {},
   "outputs": [
    {
     "name": "stdout",
     "output_type": "stream",
     "text": [
      "[-350.73719181]\n",
      "0.0\n"
     ]
    }
   ],
   "source": [
    "print(model.intercept_)\n",
    "\n",
    "print(model1.intercept_)"
   ]
  },
  {
   "cell_type": "code",
   "execution_count": 19,
   "id": "02fd9bd3",
   "metadata": {},
   "outputs": [
    {
     "name": "stdout",
     "output_type": "stream",
     "text": [
      "0.8551742120609958\n",
      "0.4554870973506979\n"
     ]
    }
   ],
   "source": [
    "print(model.score(Height,Weight))\n",
    "\n",
    "print(model1.score(Height,Weight))"
   ]
  },
  {
   "cell_type": "code",
   "execution_count": 21,
   "id": "e835bca0",
   "metadata": {},
   "outputs": [
    {
     "data": {
      "text/plain": [
       "Weight    186.604926\n",
       "Name: 10, dtype: float64"
      ]
     },
     "execution_count": 21,
     "metadata": {},
     "output_type": "execute_result"
    }
   ],
   "source": [
    "type(Height)\n",
    "Weight.iloc[10]"
   ]
  },
  {
   "cell_type": "code",
   "execution_count": 22,
   "id": "ca10745d",
   "metadata": {},
   "outputs": [],
   "source": [
    "X = [60,54,71,67,70,65,55,50,85]     #considering an outlier value\n",
    "X = pd.DataFrame(X)\n",
    "Y = model.predict(X)"
   ]
  },
  {
   "cell_type": "code",
   "execution_count": 24,
   "id": "d5d51190",
   "metadata": {},
   "outputs": [
    {
     "name": "stdout",
     "output_type": "stream",
     "text": [
      "  Sample_Height Sample_Weight\n",
      "              0             0\n",
      "0            60    112.300067\n",
      "1            54     65.996341\n",
      "2            71    197.190231\n",
      "3            67    166.321080\n",
      "4            70    189.472943\n",
      "5            65    150.886505\n",
      "6            55     73.713628\n",
      "7            50     35.127190\n",
      "8            85    305.232258\n"
     ]
    }
   ],
   "source": [
    "Y = pd.DataFrame(Y)\n",
    "df = pd.concat([X,Y],axis=1,keys=[\"Sample_Height\",\"Sample_Weight\"])\n",
    "print(df)"
   ]
  },
  {
   "cell_type": "code",
   "execution_count": 25,
   "id": "f385a52e",
   "metadata": {},
   "outputs": [
    {
     "data": {
      "text/plain": [
       "array([[219.16147993],\n",
       "       [180.07254619],\n",
       "       [221.19180859],\n",
       "       ...,\n",
       "       [142.15047514],\n",
       "       [182.01991949],\n",
       "       [127.30437133]])"
      ]
     },
     "execution_count": 25,
     "metadata": {},
     "output_type": "execute_result"
    }
   ],
   "source": [
    "model.predict(Height)"
   ]
  },
  {
   "cell_type": "code",
   "execution_count": 26,
   "id": "291adccd",
   "metadata": {},
   "outputs": [
    {
     "data": {
      "image/png": "[encoded data removed]",
      "text/plain": [
       "<Figure size 432x288 with 1 Axes>"
      ]
     },
     "metadata": {
      "needs_background": "light"
     },
     "output_type": "display_data"
    }
   ],
   "source": [
    "data.plot(kind=\"scatter\",x=\"Height\",y=\"Weight\");\n",
    "plt.plot(Height,model.predict(Height),color=\"red\",linewidth=2);"
   ]
  },
  {
   "cell_type": "code",
   "execution_count": null,
   "id": "0dec4713",
   "metadata": {},
   "outputs": [],
   "source": []
  }
 ],
 "metadata": {
  "kernelspec": {
   "display_name": "Python 3 (ipykernel)",
   "language": "python",
   "name": "python3"
  },
  "language_info": {
   "codemirror_mode": {
    "name": "ipython",
    "version": 3
   },
   "file_extension": ".py",
   "mimetype": "text/x-python",
   "name": "python",
   "nbconvert_exporter": "python",
   "pygments_lexer": "ipython3",
   "version": "3.9.7"
  }
 },
 "nbformat": 4,
 "nbformat_minor": 5
}
